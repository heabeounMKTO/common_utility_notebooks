{
 "cells": [
  {
   "cell_type": "code",
   "execution_count": 1,
   "id": "6c1bb3ac-3277-4376-b2d7-d5e8ebf40989",
   "metadata": {},
   "outputs": [],
   "source": [
    "from penis_utils import finding_shit as fs\n",
    "import os\n",
    "import cv2"
   ]
  },
  {
   "cell_type": "code",
   "execution_count": 6,
   "id": "6432d0d3-bec0-4299-800d-f0b0dcee36ff",
   "metadata": {},
   "outputs": [],
   "source": [
    "path = \"C:\\\\card_localization\\\\tile_batch1\"\n",
    "all_img = fs.FilesFinder(path).by_extension(\".jpeg\")\n",
    "for img in all_img:\n",
    "    rimg = cv2.imread(img)\n",
    "    scale_percent = 60 # percent of original size\n",
    "    width = int(rimg.shape[1] * scale_percent / 100)\n",
    "    height = int(rimg.shape[0] * scale_percent / 100)\n",
    "    dim = (width, height)\n",
    "    resized = cv2.resize(rimg, dim, interpolation = cv2.INTER_AREA)\n",
    "    cv2.imwrite(img, resized)"
   ]
  },
  {
   "cell_type": "code",
   "execution_count": 2,
   "id": "2ce6309b-d582-48ed-832f-9480b79c0b38",
   "metadata": {},
   "outputs": [
    {
     "name": "stdout",
     "output_type": "stream",
     "text": [
      "['/home/hbpopos/dealer-apps/apps/dealer-image-detector-card/src/unit_test_img/tile_pair_2.jpeg', '/home/hbpopos/dealer-apps/apps/dealer-image-detector-card/src/unit_test_img/tile_pair.jpeg', '/home/hbpopos/dealer-apps/apps/dealer-image-detector-card/src/unit_test_img/tile_pair_1.jpeg']\n"
     ]
    }
   ],
   "source": [
    "path2 = '/home/hbpopos/dealer-apps/apps/dealer-image-detector-card/src/unit_test_img'\n",
    "all_img2 = fs.FilesFinder(path2).by_extension(\".jpeg\")\n",
    "print(all_img2)"
   ]
  }
 ],
 "metadata": {
  "kernelspec": {
   "display_name": "Python 3 (ipykernel)",
   "language": "python",
   "name": "python3"
  },
  "language_info": {
   "codemirror_mode": {
    "name": "ipython",
    "version": 3
   },
   "file_extension": ".py",
   "mimetype": "text/x-python",
   "name": "python",
   "nbconvert_exporter": "python",
   "pygments_lexer": "ipython3",
   "version": "3.10.12"
  }
 },
 "nbformat": 4,
 "nbformat_minor": 5
}
