{
 "cells": [
  {
   "cell_type": "code",
   "execution_count": 1,
   "id": "9030bf98-476e-477d-b0f7-cc8259e27698",
   "metadata": {},
   "outputs": [],
   "source": [
    "from penis_detect import detecting_shit as ds\n",
    "import cv2\n",
    "import random\n",
    "%matplotlib inline \n",
    "from matplotlib import pyplot as plt\n",
    "import time \n",
    "import csv\n",
    "import tqdm\n",
    "import numpy as np"
   ]
  },
  {
   "cell_type": "code",
   "execution_count": null,
   "id": "fbd7be81-5f13-4b5e-8c54-8bfb253b8033",
   "metadata": {},
   "outputs": [],
   "source": []
  }
 ],
 "metadata": {
  "kernelspec": {
   "display_name": "Python 3 (ipykernel)",
   "language": "python",
   "name": "python3"
  },
  "language_info": {
   "codemirror_mode": {
    "name": "ipython",
    "version": 3
   },
   "file_extension": ".py",
   "mimetype": "text/x-python",
   "name": "python",
   "nbconvert_exporter": "python",
   "pygments_lexer": "ipython3",
   "version": "3.10.9"
  }
 },
 "nbformat": 4,
 "nbformat_minor": 5
}
