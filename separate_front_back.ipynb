{
 "cells": [
  {
   "cell_type": "code",
   "execution_count": 1,
   "id": "70ae354f-f6a3-4185-9d26-6d6f1c937666",
   "metadata": {},
   "outputs": [],
   "source": [
    "from penis_utils import finding_shit as fs\n",
    "import numpy\n",
    "import shutil\n",
    "import cv2\n",
    "import json\n",
    "import os\n",
    "from pathlib import Path"
   ]
  },
  {
   "cell_type": "code",
   "execution_count": 3,
   "id": "fd5da9c0-7af2-46b4-bd57-1eb9ec63a735",
   "metadata": {},
   "outputs": [],
   "source": [
    "dirname = \"C:\\\\baccarat_finetune\\\\batch2\"\n",
    "back_dir = os.path.join(dirname, \"back\")\n",
    "if not os.path.exists(back_dir):\n",
    "    os.makedirs(back_dir)\n",
    "get_all_json = fs.FilesFinder(dirname).by_extension(\".json\")\n",
    "for file in get_all_json:\n",
    "    if len(json.load(open(file))['shapes']) == 0:\n",
    "       fname = os.path.basename(file)\n",
    "       image = Path(fname).with_suffix(\".jpeg\")\n",
    "       #move img\n",
    "       shutil.move(os.path.join(dirname, image),os.path.join(back_dir,image))\n",
    "       # move json\n",
    "       shutil.move(file, os.path.join(back_dir, fname))"
   ]
  }
 ],
 "metadata": {
  "kernelspec": {
   "display_name": "Python 3 (ipykernel)",
   "language": "python",
   "name": "python3"
  },
  "language_info": {
   "codemirror_mode": {
    "name": "ipython",
    "version": 3
   },
   "file_extension": ".py",
   "mimetype": "text/x-python",
   "name": "python",
   "nbconvert_exporter": "python",
   "pygments_lexer": "ipython3",
   "version": "3.10.9"
  }
 },
 "nbformat": 4,
 "nbformat_minor": 5
}
