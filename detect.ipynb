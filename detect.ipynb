{
 "cells": [
  {
   "cell_type": "code",
   "execution_count": 2,
   "id": "df280c55-53f1-4aad-80b7-7d690a61a7aa",
   "metadata": {},
   "outputs": [],
   "source": [
    "from penis_detect import detecting_shit as ds\n",
    "import cv2\n",
    "import random\n",
    "%matplotlib inline \n",
    "from matplotlib import pyplot as plt\n",
    "import time \n",
    "import csv\n",
    "import tqdm\n",
    "import numpy as np"
   ]
  },
  {
   "cell_type": "code",
   "execution_count": 2,
   "id": "e8b60074-8316-4df5-a889-23cb6e949fba",
   "metadata": {},
   "outputs": [],
   "source": [
    "# this is probably reinventing the wheel but im too lazy\n",
    "def draw_bboxes(img, input_json):\n",
    "    for anno in input_json['shapes']:\n",
    "        ptsarr = anno['points']\n",
    "        color = (random.randint(0,255), random.randint(0,255), 128)\n",
    "        plotted = cv2.rectangle(img, (int(ptsarr[0][0]),int(ptsarr[0][1])),(int(ptsarr[1][0]),int(ptsarr[1][1])) , color, 1)\n",
    "        img = plotted\n",
    "    img = cv2.cvtColor(img, cv2.COLOR_BGR2RGB)\n",
    "    plt.imshow(img, interpolation='nearest')\n",
    "    plt.show()"
   ]
  },
  {
   "cell_type": "code",
   "execution_count": 3,
   "id": "73c75291-7439-4ba8-b7fb-b33fcc5df0f2",
   "metadata": {
    "scrolled": true
   },
   "outputs": [],
   "source": [
    "MODEL_PATH = \"/home/hbpopos/testing_models/28Detv1.131_320x320.pt\"\n",
    "MODEL_PATH_FULL = \"/home/hbpopos/dealer-apps/apps/dealer-image-detector-card/src/detect-models/28Detv1.12.pt\"\n",
    "DEVICE = int(\"0\")\n",
    "CONFIDENCE = 0.5\n",
    "SZ = (320,320)\n",
    "SZFULL = (640,640)\n",
    "IMAGE_PATH = \"/home/hbpopos/dealer-apps/apps/dealer-image-detector-card/src/test/python/MORECARD/dragon-1683001859722.jpeg\"\n",
    "def get_single_det(img, size, model, showimg=False):\n",
    "    t1 = time.time()\n",
    "    result = ds.ClassifyShit(IMAGE_PATH).detect_from_model(model, DEVICE, CONFIDENCE, size)\n",
    "    t2 = time.time() - t1\n",
    "    if showimg:\n",
    "        pic = draw_bboxes(cv2.imread(IMAGE_PATH) ,result)\n",
    "    return result, t2 \n"
   ]
  },
  {
   "cell_type": "code",
   "execution_count": 5,
   "id": "eaf98ecb-289a-4d43-a1f4-0a567c6f1f13",
   "metadata": {},
   "outputs": [
    {
     "name": "stderr",
     "output_type": "stream",
     "text": [
      "100%|████████████████████████████████████████████████████████████████████████████████████████████████████████████████████████████████████████████████████████| 10/10 [00:10<00:00,  1.05s/it]\n"
     ]
    },
    {
     "data": {
      "image/png": "[encoded data removed]",
      "text/plain": [
       "<Figure size 640x480 with 1 Axes>"
      ]
     },
     "metadata": {},
     "output_type": "display_data"
    }
   ],
   "source": [
    "# benchmark model\n",
    "x320 = []\n",
    "x640 = []\n",
    "\n",
    "with open(\"_temp_comp2.csv\", \"w\") as f:\n",
    "    writer = csv.writer(f)\n",
    "    writer.writerow([320,640])\n",
    "    for i in tqdm.tqdm(range(0,10)):\n",
    "        _a, i320 = get_single_det(IMAGE_PATH, SZ, MODEL_PATH)\n",
    "        _b, i640 = get_single_det(IMAGE_PATH, SZFULL, MODEL_PATH_FULL)\n",
    "        x320.append(i320)\n",
    "        x640.append(i640)\n",
    "        comp = list([float(i320),float(i640)])\n",
    "        writer.writerow(comp)\n",
    "\n",
    "plt.scatter(np.arange(0, len(x320), 1), x320)\n",
    "plt.scatter(np.arange(0, len(x640), 1), x640 )\n",
    "plt.show()\n"
   ]
  }
 ],
 "metadata": {
  "kernelspec": {
   "display_name": "Python 3 (ipykernel)",
   "language": "python",
   "name": "python3"
  },
  "language_info": {
   "codemirror_mode": {
    "name": "ipython",
    "version": 3
   },
   "file_extension": ".py",
   "mimetype": "text/x-python",
   "name": "python",
   "nbconvert_exporter": "python",
   "pygments_lexer": "ipython3",
   "version": "3.10.12"
  }
 },
 "nbformat": 4,
 "nbformat_minor": 5
}
