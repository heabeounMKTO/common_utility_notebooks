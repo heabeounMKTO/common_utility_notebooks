{
 "cells": [
  {
   "cell_type": "code",
   "execution_count": 7,
   "id": "c12817c8-121e-47d3-ac88-6e0885ae37a0",
   "metadata": {},
   "outputs": [],
   "source": [
    "import cv2 \n",
    "import numpy as np\n",
    "import os\n",
    "import json\n",
    "from penis_utils import finding_shit as fs\n",
    "from pathlib import Path\n",
    "import math\n",
    "import uuid"
   ]
  },
  {
   "cell_type": "code",
   "execution_count": 16,
   "id": "050b9446-bb42-45e9-a101-e12ee4f10d05",
   "metadata": {},
   "outputs": [],
   "source": [
    "IMAGE_PATH = \"C:\\\\card_localization\\\\smol\"\n",
    "all_jsons = fs.FilesFinder(IMAGE_PATH).by_extension(\".json\")\n",
    "for _json in all_jsons:\n",
    "    # get the corresponding image ti eh\n",
    "    _img = Path(_json)\n",
    "    _img = os.path.splitext(_img)\n",
    "    img_path = _img[0] + '.jpeg'\n",
    "    load_img = cv2.imread(img_path)\n",
    "    load_json = json.load(open(_json))\n",
    "    shapes = load_json['shapes']\n",
    "    for uhh in shapes:\n",
    "        pts = uhh['points']\n",
    "        x1y1 = pts[0]\n",
    "        x2y2 = pts[1]\n",
    "        cropped_img = load_img[int(x1y1[1]):int(x2y2[1]), int(x1y1[0]):int(x2y2[0])]\n",
    "        filename = f\"cropped\\\\ayylmao{uuid.uuid4()}.jpg\"\n",
    "        try:\n",
    "            cv2.imwrite(filename, cropped_img)\n",
    "        except:\n",
    "            print(\"haha\")"
   ]
  }
 ],
 "metadata": {
  "kernelspec": {
   "display_name": "Python 3 (ipykernel)",
   "language": "python",
   "name": "python3"
  },
  "language_info": {
   "codemirror_mode": {
    "name": "ipython",
    "version": 3
   },
   "file_extension": ".py",
   "mimetype": "text/x-python",
   "name": "python",
   "nbconvert_exporter": "python",
   "pygments_lexer": "ipython3",
   "version": "3.10.9"
  }
 },
 "nbformat": 4,
 "nbformat_minor": 5
}
